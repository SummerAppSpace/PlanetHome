{
 "cells": [
  {
   "cell_type": "code",
   "execution_count": null,
   "metadata": {
    "collapsed": true
   },
   "outputs": [],
   "source": [
    "\n",
    "\n",
    "\n",
    "\n",
    "\n"
   ]
  },
  {
   "cell_type": "code",
   "execution_count": 13,
   "metadata": {
    "collapsed": true
   },
   "outputs": [],
   "source": [
    "import urllib.request\n",
    "import random\n",
    "def download_image(url):      #object is called url because we are going to put a url there.\n",
    "    name = random.randrange(1,1000)  \n",
    "    ful_name = str(name)+\".jpg\"\n",
    "    urllib.request.urlretrieve(url, ful_name)  #urlretrieve is command to retrieve the given url\n",
    "\n",
    "download_image(\"https://gibs.earthdata.nasa.gov/image-download?TIME=2016252&extent=-176.73229872575513,-63.213102833829396,178.76770127424487,74.0368971661706&epsg=4326&layers=BlueMarble_ShadedRelief,Coastlines,MISR_Aerosol_Optical_Depth_Avg_Green_Monthly&opacities=1,1,1&worldfile=false&format=image/jpeg&width=4045&height=1562\")\n"
   ]
  },
  {
   "cell_type": "code",
   "execution_count": null,
   "metadata": {
    "collapsed": true
   },
   "outputs": [],
   "source": []
  },
  {
   "cell_type": "code",
   "execution_count": null,
   "metadata": {
    "collapsed": true
   },
   "outputs": [],
   "source": []
  },
  {
   "cell_type": "code",
   "execution_count": null,
   "metadata": {
    "collapsed": true
   },
   "outputs": [],
   "source": []
  }
 ],
 "metadata": {
  "kernelspec": {
   "display_name": "Python 3",
   "language": "python",
   "name": "python3"
  },
  "language_info": {
   "codemirror_mode": {
    "name": "ipython",
    "version": 3
   },
   "file_extension": ".py",
   "mimetype": "text/x-python",
   "name": "python",
   "nbconvert_exporter": "python",
   "pygments_lexer": "ipython3",
   "version": "3.6.1"
  }
 },
 "nbformat": 4,
 "nbformat_minor": 2
}
